{
 "cells": [
  {
   "cell_type": "markdown",
   "metadata": {},
   "source": [
    "# To extract ip address from a file :-"
   ]
  },
  {
   "cell_type": "markdown",
   "metadata": {},
   "source": [
    "# Method 1"
   ]
  },
  {
   "cell_type": "code",
   "execution_count": 38,
   "metadata": {},
   "outputs": [
    {
     "data": {
      "text/plain": [
       "['10.104.1.1', '1.1.1.1', '2.2.2.2', '3.3.3.3', '1.1.1.1']"
      ]
     },
     "execution_count": 38,
     "metadata": {},
     "output_type": "execute_result"
    }
   ],
   "source": [
    "import re  \n",
    "\n",
    "f=open('hkm.txt','rt')  \n",
    "fstring = f.read() \n",
    "list1=fstring.split()\n",
    "\n",
    "regex = re.compile('''((?:25[0-5]|2[0-4][0-9]|[01]?[0-9][0-9]?\\.){3}(?:(?:25[0-5]|2[0-4][0-9]|[01]?[0-9][0-9]?)))''') \n",
    "\n",
    "lst=[] \n",
    "  \n",
    "for i in list1:  \n",
    "    result = regex.search(i) \n",
    "    if result:\n",
    "        lst.append(i)\n",
    "lst"
   ]
  },
  {
   "cell_type": "markdown",
   "metadata": {},
   "source": [
    "# Method 2"
   ]
  },
  {
   "cell_type": "code",
   "execution_count": 42,
   "metadata": {},
   "outputs": [
    {
     "data": {
      "text/plain": [
       "['Harshit',\n",
       " 'is',\n",
       " 'a',\n",
       " 'good',\n",
       " 'boy',\n",
       " '10.104.1.1',\n",
       " 'he',\n",
       " 'is',\n",
       " 'very',\n",
       " 'talented',\n",
       " '1.1.1.1',\n",
       " '2.2.2.2',\n",
       " '3.3.3.3',\n",
       " '1.1.1.1']"
      ]
     },
     "execution_count": 42,
     "metadata": {},
     "output_type": "execute_result"
    }
   ],
   "source": [
    "list1"
   ]
  },
  {
   "cell_type": "code",
   "execution_count": 44,
   "metadata": {},
   "outputs": [
    {
     "name": "stdout",
     "output_type": "stream",
     "text": [
      "['10.104.1.1']\n",
      "['1.1.1.1']\n",
      "['2.2.2.2']\n",
      "['3.3.3.3']\n",
      "['1.1.1.1']\n"
     ]
    }
   ],
   "source": [
    "for line in list1:\n",
    "    ip = re.findall( r'[0-9]+(?:\\.[0-9]+){3}', line )\n",
    "    if(len(ip)!=0):\n",
    "        print(ip)"
   ]
  },
  {
   "cell_type": "code",
   "execution_count": null,
   "metadata": {},
   "outputs": [],
   "source": []
  }
 ],
 "metadata": {
  "kernelspec": {
   "display_name": "Python 3",
   "language": "python",
   "name": "python3"
  },
  "language_info": {
   "codemirror_mode": {
    "name": "ipython",
    "version": 3
   },
   "file_extension": ".py",
   "mimetype": "text/x-python",
   "name": "python",
   "nbconvert_exporter": "python",
   "pygments_lexer": "ipython3",
   "version": "3.7.4"
  }
 },
 "nbformat": 4,
 "nbformat_minor": 2
}
